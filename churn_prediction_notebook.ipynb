{
  "nbformat": 4,
  "nbformat_minor": 0,
  "metadata": {
    "colab": {
      "provenance": [],
      "collapsed_sections": [],
      "authorship_tag": "ABX9TyPOGdAXJvbtqyoyqBne7ACQ",
      "include_colab_link": true
    },
    "kernelspec": {
      "name": "python3",
      "display_name": "Python 3"
    },
    "language_info": {
      "name": "python"
    },
    "accelerator": "GPU",
    "widgets": {
      "application/vnd.jupyter.widget-state+json": {
        "19d3d9c4fb5049e68ba37aa21adbf0d7": {
          "model_module": "catboost-widget",
          "model_name": "CatboostWidgetModel",
          "model_module_version": "^1.0.0",
          "state": {
            "_dom_classes": [],
            "_model_module": "catboost-widget",
            "_model_module_version": "^1.0.0",
            "_model_name": "CatboostWidgetModel",
            "_view_count": null,
            "_view_module": "catboost-widget",
            "_view_module_version": "^1.0.0",
            "_view_name": "CatboostWidgetView",
            "data": {
              "catboost_info": {
                "path": "catboost_info",
                "name": "catboost_info",
                "content": {
                  "passed_iterations": 0,
                  "total_iterations": 1,
                  "data": {
                    "iterations": [
                      {
                        "parameters": [
                          {
                            "subsample": 0.6,
                            "min_data_in_leaf": 227,
                            "random_strength": 5,
                            "depth": 4,
                            "learning_rate": 0.08,
                            "l2_leaf_reg": 6.3,
                            "iterations": 250
                          }
                        ],
                        "learn": [
                          0.8836835915,
                          0.3728758398
                        ],
                        "iteration": 0,
                        "passed_time": 1.497738321,
                        "remaining_time": 0,
                        "test": [
                          0.8572750116,
                          0.3907698833
                        ]
                      }
                    ],
                    "meta": {
                      "test_sets": [
                        "test"
                      ],
                      "test_metrics": [
                        {
                          "best_value": "Max",
                          "name": "AUC"
                        },
                        {
                          "best_value": "Min",
                          "name": "Logloss"
                        }
                      ],
                      "learn_metrics": [
                        {
                          "best_value": "Max",
                          "name": "AUC"
                        },
                        {
                          "best_value": "Min",
                          "name": "Logloss"
                        }
                      ],
                      "launch_mode": "Train",
                      "parameters": "parameters",
                      "iteration_count": 1,
                      "learn_sets": [
                        "learn"
                      ],
                      "name": "experiment"
                    }
                  }
                }
              }
            },
            "layout": "IPY_MODEL_9eac524885854d84b3d0571624a94ac8"
          }
        }
      }
    }
  },
  "cells": [
    {
      "cell_type": "markdown",
      "metadata": {
        "id": "view-in-github",
        "colab_type": "text"
      },
      "source": [
        "<a href=\"https://colab.research.google.com/github/padobrik/churn-prediction/blob/main/churn_prediction_notebook.ipynb\" target=\"_parent\"><img src=\"https://colab.research.google.com/assets/colab-badge.svg\" alt=\"Open In Colab\"/></a>"
      ]
    },
    {
      "cell_type": "code",
      "source": [
        "! pip install catboost"
      ],
      "metadata": {
        "colab": {
          "base_uri": "https://localhost:8080/"
        },
        "id": "-M8e111h0ahR",
        "outputId": "e9ab4948-592b-46fa-aa91-3e24684f236a"
      },
      "execution_count": null,
      "outputs": [
        {
          "output_type": "stream",
          "name": "stdout",
          "text": [
            "Looking in indexes: https://pypi.org/simple, https://us-python.pkg.dev/colab-wheels/public/simple/\n",
            "Collecting catboost\n",
            "  Downloading catboost-1.1-cp37-none-manylinux1_x86_64.whl (76.8 MB)\n",
            "\u001b[K     |████████████████████████████████| 76.8 MB 1.4 MB/s \n",
            "\u001b[?25hRequirement already satisfied: graphviz in /usr/local/lib/python3.7/dist-packages (from catboost) (0.10.1)\n",
            "Requirement already satisfied: scipy in /usr/local/lib/python3.7/dist-packages (from catboost) (1.7.3)\n",
            "Requirement already satisfied: plotly in /usr/local/lib/python3.7/dist-packages (from catboost) (5.5.0)\n",
            "Requirement already satisfied: pandas>=0.24.0 in /usr/local/lib/python3.7/dist-packages (from catboost) (1.3.5)\n",
            "Requirement already satisfied: numpy>=1.16.0 in /usr/local/lib/python3.7/dist-packages (from catboost) (1.21.6)\n",
            "Requirement already satisfied: matplotlib in /usr/local/lib/python3.7/dist-packages (from catboost) (3.2.2)\n",
            "Requirement already satisfied: six in /usr/local/lib/python3.7/dist-packages (from catboost) (1.15.0)\n",
            "Requirement already satisfied: pytz>=2017.3 in /usr/local/lib/python3.7/dist-packages (from pandas>=0.24.0->catboost) (2022.4)\n",
            "Requirement already satisfied: python-dateutil>=2.7.3 in /usr/local/lib/python3.7/dist-packages (from pandas>=0.24.0->catboost) (2.8.2)\n",
            "Requirement already satisfied: pyparsing!=2.0.4,!=2.1.2,!=2.1.6,>=2.0.1 in /usr/local/lib/python3.7/dist-packages (from matplotlib->catboost) (3.0.9)\n",
            "Requirement already satisfied: cycler>=0.10 in /usr/local/lib/python3.7/dist-packages (from matplotlib->catboost) (0.11.0)\n",
            "Requirement already satisfied: kiwisolver>=1.0.1 in /usr/local/lib/python3.7/dist-packages (from matplotlib->catboost) (1.4.4)\n",
            "Requirement already satisfied: typing-extensions in /usr/local/lib/python3.7/dist-packages (from kiwisolver>=1.0.1->matplotlib->catboost) (4.1.1)\n",
            "Requirement already satisfied: tenacity>=6.2.0 in /usr/local/lib/python3.7/dist-packages (from plotly->catboost) (8.1.0)\n",
            "Installing collected packages: catboost\n",
            "Successfully installed catboost-1.1\n"
          ]
        }
      ]
    },
    {
      "cell_type": "code",
      "execution_count": null,
      "metadata": {
        "id": "cFGIiNz_XJu-"
      },
      "outputs": [],
      "source": [
        "import pandas as pd\n",
        "import numpy as np\n",
        "import matplotlib.pyplot as plt\n",
        "import seaborn as sns\n",
        "import warnings\n",
        "\n",
        "# Ignore feature warnings while construct plots\n",
        "warnings.simplefilter(action='ignore', category=FutureWarning)"
      ]
    },
    {
      "cell_type": "markdown",
      "source": [
        "Import dataset:"
      ],
      "metadata": {
        "id": "WxGBBmr2Yv5e"
      }
    },
    {
      "cell_type": "code",
      "source": [
        "train_data = pd.read_csv('./train.csv')\n",
        "test_data = pd.read_csv('./test.csv')"
      ],
      "metadata": {
        "id": "CoGxzzXvXQSl"
      },
      "execution_count": null,
      "outputs": []
    },
    {
      "cell_type": "markdown",
      "source": [
        "Basic dataset analysis:\n"
      ],
      "metadata": {
        "id": "l91g1A6gYvJx"
      }
    },
    {
      "cell_type": "code",
      "source": [
        "train_data.head()"
      ],
      "metadata": {
        "colab": {
          "base_uri": "https://localhost:8080/",
          "height": 339
        },
        "id": "XRNY_KQgrnIB",
        "outputId": "a40a7073-4db7-4c34-edf0-2c6c9af1775b"
      },
      "execution_count": null,
      "outputs": [
        {
          "output_type": "execute_result",
          "data": {
            "text/plain": [
              "   ClientPeriod  MonthlySpending TotalSpent     Sex  IsSeniorCitizen  \\\n",
              "0            55            19.50    1026.35    Male                0   \n",
              "1            72            25.85     1872.2    Male                0   \n",
              "2             1            75.90       75.9    Male                0   \n",
              "3            32            79.30       2570  Female                1   \n",
              "4            60           115.25    6758.45  Female                0   \n",
              "\n",
              "  HasPartner HasChild HasPhoneService HasMultiplePhoneNumbers  \\\n",
              "0        Yes      Yes             Yes                      No   \n",
              "1        Yes       No             Yes                     Yes   \n",
              "2         No       No             Yes                      No   \n",
              "3        Yes       No             Yes                     Yes   \n",
              "4        Yes      Yes             Yes                     Yes   \n",
              "\n",
              "  HasInternetService HasOnlineSecurityService      HasOnlineBackup  \\\n",
              "0                 No      No internet service  No internet service   \n",
              "1                 No      No internet service  No internet service   \n",
              "2        Fiber optic                       No                   No   \n",
              "3        Fiber optic                       No                   No   \n",
              "4        Fiber optic                      Yes                  Yes   \n",
              "\n",
              "   HasDeviceProtection HasTechSupportAccess          HasOnlineTV  \\\n",
              "0  No internet service  No internet service  No internet service   \n",
              "1  No internet service  No internet service  No internet service   \n",
              "2                   No                  Yes                   No   \n",
              "3                  Yes                   No                   No   \n",
              "4                  Yes                  Yes                  Yes   \n",
              "\n",
              "  HasMovieSubscription HasContractPhone IsBillingPaperless  \\\n",
              "0  No internet service         One year                 No   \n",
              "1  No internet service         Two year                 No   \n",
              "2                   No   Month-to-month                Yes   \n",
              "3                   No   Month-to-month                 No   \n",
              "4                  Yes         Two year                 No   \n",
              "\n",
              "             PaymentMethod  Churn  \n",
              "0             Mailed check      0  \n",
              "1  Credit card (automatic)      0  \n",
              "2         Electronic check      1  \n",
              "3             Mailed check      0  \n",
              "4  Credit card (automatic)      0  "
            ],
            "text/html": [
              "\n",
              "  <div id=\"df-f7360aca-7026-4e75-b758-b3d94d4ad9c1\">\n",
              "    <div class=\"colab-df-container\">\n",
              "      <div>\n",
              "<style scoped>\n",
              "    .dataframe tbody tr th:only-of-type {\n",
              "        vertical-align: middle;\n",
              "    }\n",
              "\n",
              "    .dataframe tbody tr th {\n",
              "        vertical-align: top;\n",
              "    }\n",
              "\n",
              "    .dataframe thead th {\n",
              "        text-align: right;\n",
              "    }\n",
              "</style>\n",
              "<table border=\"1\" class=\"dataframe\">\n",
              "  <thead>\n",
              "    <tr style=\"text-align: right;\">\n",
              "      <th></th>\n",
              "      <th>ClientPeriod</th>\n",
              "      <th>MonthlySpending</th>\n",
              "      <th>TotalSpent</th>\n",
              "      <th>Sex</th>\n",
              "      <th>IsSeniorCitizen</th>\n",
              "      <th>HasPartner</th>\n",
              "      <th>HasChild</th>\n",
              "      <th>HasPhoneService</th>\n",
              "      <th>HasMultiplePhoneNumbers</th>\n",
              "      <th>HasInternetService</th>\n",
              "      <th>HasOnlineSecurityService</th>\n",
              "      <th>HasOnlineBackup</th>\n",
              "      <th>HasDeviceProtection</th>\n",
              "      <th>HasTechSupportAccess</th>\n",
              "      <th>HasOnlineTV</th>\n",
              "      <th>HasMovieSubscription</th>\n",
              "      <th>HasContractPhone</th>\n",
              "      <th>IsBillingPaperless</th>\n",
              "      <th>PaymentMethod</th>\n",
              "      <th>Churn</th>\n",
              "    </tr>\n",
              "  </thead>\n",
              "  <tbody>\n",
              "    <tr>\n",
              "      <th>0</th>\n",
              "      <td>55</td>\n",
              "      <td>19.50</td>\n",
              "      <td>1026.35</td>\n",
              "      <td>Male</td>\n",
              "      <td>0</td>\n",
              "      <td>Yes</td>\n",
              "      <td>Yes</td>\n",
              "      <td>Yes</td>\n",
              "      <td>No</td>\n",
              "      <td>No</td>\n",
              "      <td>No internet service</td>\n",
              "      <td>No internet service</td>\n",
              "      <td>No internet service</td>\n",
              "      <td>No internet service</td>\n",
              "      <td>No internet service</td>\n",
              "      <td>No internet service</td>\n",
              "      <td>One year</td>\n",
              "      <td>No</td>\n",
              "      <td>Mailed check</td>\n",
              "      <td>0</td>\n",
              "    </tr>\n",
              "    <tr>\n",
              "      <th>1</th>\n",
              "      <td>72</td>\n",
              "      <td>25.85</td>\n",
              "      <td>1872.2</td>\n",
              "      <td>Male</td>\n",
              "      <td>0</td>\n",
              "      <td>Yes</td>\n",
              "      <td>No</td>\n",
              "      <td>Yes</td>\n",
              "      <td>Yes</td>\n",
              "      <td>No</td>\n",
              "      <td>No internet service</td>\n",
              "      <td>No internet service</td>\n",
              "      <td>No internet service</td>\n",
              "      <td>No internet service</td>\n",
              "      <td>No internet service</td>\n",
              "      <td>No internet service</td>\n",
              "      <td>Two year</td>\n",
              "      <td>No</td>\n",
              "      <td>Credit card (automatic)</td>\n",
              "      <td>0</td>\n",
              "    </tr>\n",
              "    <tr>\n",
              "      <th>2</th>\n",
              "      <td>1</td>\n",
              "      <td>75.90</td>\n",
              "      <td>75.9</td>\n",
              "      <td>Male</td>\n",
              "      <td>0</td>\n",
              "      <td>No</td>\n",
              "      <td>No</td>\n",
              "      <td>Yes</td>\n",
              "      <td>No</td>\n",
              "      <td>Fiber optic</td>\n",
              "      <td>No</td>\n",
              "      <td>No</td>\n",
              "      <td>No</td>\n",
              "      <td>Yes</td>\n",
              "      <td>No</td>\n",
              "      <td>No</td>\n",
              "      <td>Month-to-month</td>\n",
              "      <td>Yes</td>\n",
              "      <td>Electronic check</td>\n",
              "      <td>1</td>\n",
              "    </tr>\n",
              "    <tr>\n",
              "      <th>3</th>\n",
              "      <td>32</td>\n",
              "      <td>79.30</td>\n",
              "      <td>2570</td>\n",
              "      <td>Female</td>\n",
              "      <td>1</td>\n",
              "      <td>Yes</td>\n",
              "      <td>No</td>\n",
              "      <td>Yes</td>\n",
              "      <td>Yes</td>\n",
              "      <td>Fiber optic</td>\n",
              "      <td>No</td>\n",
              "      <td>No</td>\n",
              "      <td>Yes</td>\n",
              "      <td>No</td>\n",
              "      <td>No</td>\n",
              "      <td>No</td>\n",
              "      <td>Month-to-month</td>\n",
              "      <td>No</td>\n",
              "      <td>Mailed check</td>\n",
              "      <td>0</td>\n",
              "    </tr>\n",
              "    <tr>\n",
              "      <th>4</th>\n",
              "      <td>60</td>\n",
              "      <td>115.25</td>\n",
              "      <td>6758.45</td>\n",
              "      <td>Female</td>\n",
              "      <td>0</td>\n",
              "      <td>Yes</td>\n",
              "      <td>Yes</td>\n",
              "      <td>Yes</td>\n",
              "      <td>Yes</td>\n",
              "      <td>Fiber optic</td>\n",
              "      <td>Yes</td>\n",
              "      <td>Yes</td>\n",
              "      <td>Yes</td>\n",
              "      <td>Yes</td>\n",
              "      <td>Yes</td>\n",
              "      <td>Yes</td>\n",
              "      <td>Two year</td>\n",
              "      <td>No</td>\n",
              "      <td>Credit card (automatic)</td>\n",
              "      <td>0</td>\n",
              "    </tr>\n",
              "  </tbody>\n",
              "</table>\n",
              "</div>\n",
              "      <button class=\"colab-df-convert\" onclick=\"convertToInteractive('df-f7360aca-7026-4e75-b758-b3d94d4ad9c1')\"\n",
              "              title=\"Convert this dataframe to an interactive table.\"\n",
              "              style=\"display:none;\">\n",
              "        \n",
              "  <svg xmlns=\"http://www.w3.org/2000/svg\" height=\"24px\"viewBox=\"0 0 24 24\"\n",
              "       width=\"24px\">\n",
              "    <path d=\"M0 0h24v24H0V0z\" fill=\"none\"/>\n",
              "    <path d=\"M18.56 5.44l.94 2.06.94-2.06 2.06-.94-2.06-.94-.94-2.06-.94 2.06-2.06.94zm-11 1L8.5 8.5l.94-2.06 2.06-.94-2.06-.94L8.5 2.5l-.94 2.06-2.06.94zm10 10l.94 2.06.94-2.06 2.06-.94-2.06-.94-.94-2.06-.94 2.06-2.06.94z\"/><path d=\"M17.41 7.96l-1.37-1.37c-.4-.4-.92-.59-1.43-.59-.52 0-1.04.2-1.43.59L10.3 9.45l-7.72 7.72c-.78.78-.78 2.05 0 2.83L4 21.41c.39.39.9.59 1.41.59.51 0 1.02-.2 1.41-.59l7.78-7.78 2.81-2.81c.8-.78.8-2.07 0-2.86zM5.41 20L4 18.59l7.72-7.72 1.47 1.35L5.41 20z\"/>\n",
              "  </svg>\n",
              "      </button>\n",
              "      \n",
              "  <style>\n",
              "    .colab-df-container {\n",
              "      display:flex;\n",
              "      flex-wrap:wrap;\n",
              "      gap: 12px;\n",
              "    }\n",
              "\n",
              "    .colab-df-convert {\n",
              "      background-color: #E8F0FE;\n",
              "      border: none;\n",
              "      border-radius: 50%;\n",
              "      cursor: pointer;\n",
              "      display: none;\n",
              "      fill: #1967D2;\n",
              "      height: 32px;\n",
              "      padding: 0 0 0 0;\n",
              "      width: 32px;\n",
              "    }\n",
              "\n",
              "    .colab-df-convert:hover {\n",
              "      background-color: #E2EBFA;\n",
              "      box-shadow: 0px 1px 2px rgba(60, 64, 67, 0.3), 0px 1px 3px 1px rgba(60, 64, 67, 0.15);\n",
              "      fill: #174EA6;\n",
              "    }\n",
              "\n",
              "    [theme=dark] .colab-df-convert {\n",
              "      background-color: #3B4455;\n",
              "      fill: #D2E3FC;\n",
              "    }\n",
              "\n",
              "    [theme=dark] .colab-df-convert:hover {\n",
              "      background-color: #434B5C;\n",
              "      box-shadow: 0px 1px 3px 1px rgba(0, 0, 0, 0.15);\n",
              "      filter: drop-shadow(0px 1px 2px rgba(0, 0, 0, 0.3));\n",
              "      fill: #FFFFFF;\n",
              "    }\n",
              "  </style>\n",
              "\n",
              "      <script>\n",
              "        const buttonEl =\n",
              "          document.querySelector('#df-f7360aca-7026-4e75-b758-b3d94d4ad9c1 button.colab-df-convert');\n",
              "        buttonEl.style.display =\n",
              "          google.colab.kernel.accessAllowed ? 'block' : 'none';\n",
              "\n",
              "        async function convertToInteractive(key) {\n",
              "          const element = document.querySelector('#df-f7360aca-7026-4e75-b758-b3d94d4ad9c1');\n",
              "          const dataTable =\n",
              "            await google.colab.kernel.invokeFunction('convertToInteractive',\n",
              "                                                     [key], {});\n",
              "          if (!dataTable) return;\n",
              "\n",
              "          const docLinkHtml = 'Like what you see? Visit the ' +\n",
              "            '<a target=\"_blank\" href=https://colab.research.google.com/notebooks/data_table.ipynb>data table notebook</a>'\n",
              "            + ' to learn more about interactive tables.';\n",
              "          element.innerHTML = '';\n",
              "          dataTable['output_type'] = 'display_data';\n",
              "          await google.colab.output.renderOutput(dataTable, element);\n",
              "          const docLink = document.createElement('div');\n",
              "          docLink.innerHTML = docLinkHtml;\n",
              "          element.appendChild(docLink);\n",
              "        }\n",
              "      </script>\n",
              "    </div>\n",
              "  </div>\n",
              "  "
            ]
          },
          "metadata": {},
          "execution_count": 5
        }
      ]
    },
    {
      "cell_type": "code",
      "source": [
        "# Get general info about dataset:\n",
        "train_data.info()"
      ],
      "metadata": {
        "colab": {
          "base_uri": "https://localhost:8080/"
        },
        "id": "SB-kH09AZ_L-",
        "outputId": "a0131ea5-a4bb-4e4a-be44-07167c685272"
      },
      "execution_count": null,
      "outputs": [
        {
          "output_type": "stream",
          "name": "stdout",
          "text": [
            "<class 'pandas.core.frame.DataFrame'>\n",
            "RangeIndex: 5282 entries, 0 to 5281\n",
            "Data columns (total 20 columns):\n",
            " #   Column                    Non-Null Count  Dtype  \n",
            "---  ------                    --------------  -----  \n",
            " 0   ClientPeriod              5282 non-null   int64  \n",
            " 1   MonthlySpending           5282 non-null   float64\n",
            " 2   TotalSpent                5282 non-null   object \n",
            " 3   Sex                       5282 non-null   object \n",
            " 4   IsSeniorCitizen           5282 non-null   int64  \n",
            " 5   HasPartner                5282 non-null   object \n",
            " 6   HasChild                  5282 non-null   object \n",
            " 7   HasPhoneService           5282 non-null   object \n",
            " 8   HasMultiplePhoneNumbers   5282 non-null   object \n",
            " 9   HasInternetService        5282 non-null   object \n",
            " 10  HasOnlineSecurityService  5282 non-null   object \n",
            " 11  HasOnlineBackup           5282 non-null   object \n",
            " 12  HasDeviceProtection       5282 non-null   object \n",
            " 13  HasTechSupportAccess      5282 non-null   object \n",
            " 14  HasOnlineTV               5282 non-null   object \n",
            " 15  HasMovieSubscription      5282 non-null   object \n",
            " 16  HasContractPhone          5282 non-null   object \n",
            " 17  IsBillingPaperless        5282 non-null   object \n",
            " 18  PaymentMethod             5282 non-null   object \n",
            " 19  Churn                     5282 non-null   int64  \n",
            "dtypes: float64(1), int64(3), object(16)\n",
            "memory usage: 825.4+ KB\n"
          ]
        }
      ]
    },
    {
      "cell_type": "markdown",
      "source": [
        "Column 'TotalSpent' has string values, and also empty cells. According to the data about users' churn, we see that these empty values about total spent correspond to absence of any user's traffic. Thus, it is better to fill these cells with zeros instead of drop them from dataset:"
      ],
      "metadata": {
        "id": "VHq7Pfj6qGj2"
      }
    },
    {
      "cell_type": "code",
      "source": [
        "train_data['TotalSpent'] = pd.to_numeric(train_data['TotalSpent'], errors='coerce')\n",
        "test_data['TotalSpent'] = pd.to_numeric(test_data['TotalSpent'], errors='coerce')"
      ],
      "metadata": {
        "id": "3QxfUYC4qN9J"
      },
      "execution_count": null,
      "outputs": []
    },
    {
      "cell_type": "code",
      "source": [
        "train_data[\"TotalSpent\"] = train_data.TotalSpent.fillna(0).astype(float)\n",
        "test_data[\"TotalSpent\"] = test_data.TotalSpent.fillna(0).astype(float)"
      ],
      "metadata": {
        "id": "85OQgW24wCG5"
      },
      "execution_count": null,
      "outputs": []
    },
    {
      "cell_type": "code",
      "source": [
        "# Check NaN values in columns:\n",
        "print('\\033[1mNumber of NaN values in columns:\\033[0m')\n",
        "train_data.isna().sum()"
      ],
      "metadata": {
        "colab": {
          "base_uri": "https://localhost:8080/"
        },
        "id": "dF0gSeQIXmb_",
        "outputId": "6bd1f1b6-6fc2-4c88-88ba-82b2c96911da"
      },
      "execution_count": null,
      "outputs": [
        {
          "output_type": "stream",
          "name": "stdout",
          "text": [
            "\u001b[1mNumber of NaN values in columns:\u001b[0m\n"
          ]
        },
        {
          "output_type": "execute_result",
          "data": {
            "text/plain": [
              "ClientPeriod                0\n",
              "MonthlySpending             0\n",
              "TotalSpent                  0\n",
              "Sex                         0\n",
              "IsSeniorCitizen             0\n",
              "HasPartner                  0\n",
              "HasChild                    0\n",
              "HasPhoneService             0\n",
              "HasMultiplePhoneNumbers     0\n",
              "HasInternetService          0\n",
              "HasOnlineSecurityService    0\n",
              "HasOnlineBackup             0\n",
              "HasDeviceProtection         0\n",
              "HasTechSupportAccess        0\n",
              "HasOnlineTV                 0\n",
              "HasMovieSubscription        0\n",
              "HasContractPhone            0\n",
              "IsBillingPaperless          0\n",
              "PaymentMethod               0\n",
              "Churn                       0\n",
              "dtype: int64"
            ]
          },
          "metadata": {},
          "execution_count": 9
        }
      ]
    },
    {
      "cell_type": "markdown",
      "source": [
        "Let's use given lists of columns from the baseline:"
      ],
      "metadata": {
        "id": "H9GhGEV_yrrt"
      }
    },
    {
      "cell_type": "code",
      "source": [
        "num_cols = [\n",
        "    'ClientPeriod',\n",
        "    'MonthlySpending',\n",
        "    'TotalSpent'\n",
        "]\n",
        "\n",
        "cat_cols = [\n",
        "    'Sex',\n",
        "    'IsSeniorCitizen',\n",
        "    'HasPartner',\n",
        "    'HasChild',\n",
        "    'HasPhoneService',\n",
        "    'HasMultiplePhoneNumbers',\n",
        "    'HasInternetService',\n",
        "    'HasOnlineSecurityService',\n",
        "    'HasOnlineBackup',\n",
        "    'HasDeviceProtection',\n",
        "    'HasTechSupportAccess',\n",
        "    'HasOnlineTV',\n",
        "    'HasMovieSubscription',\n",
        "    'HasContractPhone',\n",
        "    'IsBillingPaperless',\n",
        "    'PaymentMethod'\n",
        "]\n",
        "\n",
        "feature_cols = num_cols + cat_cols\n",
        "target_col = 'Churn'"
      ],
      "metadata": {
        "id": "ydgt3VJZZ83Q"
      },
      "execution_count": null,
      "outputs": []
    },
    {
      "cell_type": "markdown",
      "source": [
        "Now let's look at the distribution of the values provided to us across each parameter:"
      ],
      "metadata": {
        "id": "Hd8RRc2wMKBz"
      }
    },
    {
      "cell_type": "code",
      "source": [
        "# Plot distribution of numerical features:\n",
        "fig, axs = plt.subplots(len(num_cols), figsize=(10, 12))\n",
        "for n, col in enumerate(train_data[num_cols].columns):\n",
        "    train_data[col].hist(ax=axs[n])\n",
        "    axs[n].set_title(col, fontsize=13)"
      ],
      "metadata": {
        "colab": {
          "base_uri": "https://localhost:8080/",
          "height": 716
        },
        "id": "tsYFWFPGaSMm",
        "outputId": "52e0841a-1e24-4123-be12-375bd1ed097f"
      },
      "execution_count": null,
      "outputs": [
        {
          "output_type": "display_data",
          "data": {
            "text/plain": [
              "<Figure size 720x864 with 3 Axes>"
            ],
            "image/png": "[encoded data removed]"
          },
          "metadata": {
            "needs_background": "light"
          }
        }
      ]
    },
    {
      "cell_type": "markdown",
      "source": [
        "As we can see, there is no any serious outliers in numerical columns"
      ],
      "metadata": {
        "id": "Gay8GsapMcII"
      }
    },
    {
      "cell_type": "code",
      "source": [
        "# Plot distribution of categorical features:\n",
        "f, axes = plt.subplots(4, 4, figsize=(24,18))\n",
        "for column, ax in zip(cat_cols, axes.ravel()):\n",
        "    sns.countplot(train_data[column], ax=ax)\n",
        "    ax.set(xlabel=None)\n",
        "    ax.set_title(column)"
      ],
      "metadata": {
        "colab": {
          "base_uri": "https://localhost:8080/",
          "height": 939
        },
        "id": "Pwu4f-Bva-72",
        "outputId": "a69ca653-219b-4d80-bb00-ac3ccdf344fd"
      },
      "execution_count": null,
      "outputs": [
        {
          "output_type": "display_data",
          "data": {
            "text/plain": [
              "<Figure size 1728x1296 with 16 Axes>"
            ],
            "image/png": "[encoded data removed]"
          },
          "metadata": {
            "needs_background": "light"
          }
        }
      ]
    },
    {
      "cell_type": "markdown",
      "source": [
        "Categorical variables also do not show any anomalies"
      ],
      "metadata": {
        "id": "syBWihjSMmXh"
      }
    },
    {
      "cell_type": "code",
      "source": [
        "# Target variable\n",
        "sns.countplot(train_data[target_col])"
      ],
      "metadata": {
        "colab": {
          "base_uri": "https://localhost:8080/",
          "height": 297
        },
        "id": "SidqBUBRoUza",
        "outputId": "a0ecc913-6c39-45fa-f291-5ba4f324990e"
      },
      "execution_count": null,
      "outputs": [
        {
          "output_type": "execute_result",
          "data": {
            "text/plain": [
              "<matplotlib.axes._subplots.AxesSubplot at 0x7fae60682d50>"
            ]
          },
          "metadata": {},
          "execution_count": 54
        },
        {
          "output_type": "display_data",
          "data": {
            "text/plain": [
              "<Figure size 432x288 with 1 Axes>"
            ],
            "image/png": "[encoded data removed]"
          },
          "metadata": {
            "needs_background": "light"
          }
        }
      ]
    },
    {
      "cell_type": "code",
      "source": [
        "plt.figure(figsize=(14, 8)) \n",
        "heatmap = sns.heatmap(train_data[num_cols + [target_col]].corr(), vmin=-1, vmax=1, annot=True);\n",
        "heatmap.set_title('Correlation Heatmap for Numerical Parameters', fontdict={'fontsize':12});"
      ],
      "metadata": {
        "colab": {
          "base_uri": "https://localhost:8080/",
          "height": 499
        },
        "id": "SQMhvdVOOyKO",
        "outputId": "2418d2ce-7b12-43f8-d9b0-d1693244a4d5"
      },
      "execution_count": null,
      "outputs": [
        {
          "output_type": "display_data",
          "data": {
            "text/plain": [
              "<Figure size 1008x576 with 2 Axes>"
            ],
            "image/png": "[encoded data removed]"
          },
          "metadata": {
            "needs_background": "light"
          }
        }
      ]
    },
    {
      "cell_type": "markdown",
      "source": [
        "As we can see, the classes of the target column are not well-balanced. *Class 1* is not colossally smaller than *Class 0*, so we can still avoid methods for processing imbalanced datasets, but keep in mind that the *accuracy* metric should not be used in this case."
      ],
      "metadata": {
        "id": "HElNGgrsN3Ch"
      }
    },
    {
      "cell_type": "markdown",
      "source": [
        "---"
      ],
      "metadata": {
        "id": "ufuRXcmeQ5xD"
      }
    },
    {
      "cell_type": "markdown",
      "source": [
        "## Linear model:\n"
      ],
      "metadata": {
        "id": "Vuf30ofZQ_jl"
      }
    },
    {
      "cell_type": "markdown",
      "source": [
        "### Features preprocessing:\n",
        "\n"
      ],
      "metadata": {
        "id": "YVITAM5m-Ch2"
      }
    },
    {
      "cell_type": "markdown",
      "source": [
        "To convert categorical variables into numerical ones, it is necessary to convert several columns at once into numerical values, and then perform one-hot encoding:"
      ],
      "metadata": {
        "id": "3sjCKaWNAHj6"
      }
    },
    {
      "cell_type": "code",
      "source": [
        "from sklearn.linear_model import LogisticRegression, LogisticRegressionCV\n",
        "from sklearn.model_selection import train_test_split, GridSearchCV\n",
        "from sklearn.preprocessing import StandardScaler, RobustScaler, LabelEncoder, OneHotEncoder\n",
        "from sklearn.pipeline import make_pipeline"
      ],
      "metadata": {
        "id": "aXwC8XzORC6d"
      },
      "execution_count": null,
      "outputs": []
    },
    {
      "cell_type": "code",
      "source": [
        "# Label and OneHot encoding\n",
        "labenc = LabelEncoder()\n",
        "\n",
        "# Copy initial dataset for future catboost classifier\n",
        "train_catboost = train_data.copy()\n",
        "test_catboost = test_data.copy()\n",
        "\n",
        "train_data[cat_cols] = train_data[cat_cols].apply(lambda col: labenc.fit_transform(col))\n",
        "test_data[cat_cols] = test_data[cat_cols].apply(lambda col: labenc.fit_transform(col))\n",
        "\n",
        "train_data = pd.get_dummies(train_data, columns=cat_cols)\n",
        "test_data = pd.get_dummies(test_data, columns=cat_cols)"
      ],
      "metadata": {
        "id": "vHWfmVV_A2th"
      },
      "execution_count": null,
      "outputs": []
    },
    {
      "cell_type": "code",
      "source": [
        "train_data"
      ],
      "metadata": {
        "colab": {
          "base_uri": "https://localhost:8080/",
          "height": 488
        },
        "id": "eOGCpMaFEFxZ",
        "outputId": "d5cfeb62-afd9-4c30-f4b8-26971bf9b79c"
      },
      "execution_count": null,
      "outputs": [
        {
          "output_type": "execute_result",
          "data": {
            "text/plain": [
              "      ClientPeriod  MonthlySpending  TotalSpent  Churn  Sex_0  Sex_1  \\\n",
              "0               55            19.50     1026.35      0      0      1   \n",
              "1               72            25.85     1872.20      0      0      1   \n",
              "2                1            75.90       75.90      1      0      1   \n",
              "3               32            79.30     2570.00      0      1      0   \n",
              "4               60           115.25     6758.45      0      1      0   \n",
              "...            ...              ...         ...    ...    ...    ...   \n",
              "5277             3            30.40       82.15      0      0      1   \n",
              "5278            50            44.45     2188.45      0      0      1   \n",
              "5279             1            55.05       55.05      0      0      1   \n",
              "5280            29            76.00     2215.25      0      1      0   \n",
              "5281            19            75.90     1375.60      0      1      0   \n",
              "\n",
              "      IsSeniorCitizen_0  IsSeniorCitizen_1  HasPartner_0  HasPartner_1  ...  \\\n",
              "0                     1                  0             0             1  ...   \n",
              "1                     1                  0             0             1  ...   \n",
              "2                     1                  0             1             0  ...   \n",
              "3                     0                  1             0             1  ...   \n",
              "4                     1                  0             0             1  ...   \n",
              "...                 ...                ...           ...           ...  ...   \n",
              "5277                  1                  0             1             0  ...   \n",
              "5278                  1                  0             0             1  ...   \n",
              "5279                  1                  0             1             0  ...   \n",
              "5280                  1                  0             1             0  ...   \n",
              "5281                  1                  0             1             0  ...   \n",
              "\n",
              "      HasMovieSubscription_2  HasContractPhone_0  HasContractPhone_1  \\\n",
              "0                          0                   0                   1   \n",
              "1                          0                   0                   0   \n",
              "2                          0                   1                   0   \n",
              "3                          0                   1                   0   \n",
              "4                          1                   0                   0   \n",
              "...                      ...                 ...                 ...   \n",
              "5277                       0                   1                   0   \n",
              "5278                       0                   0                   1   \n",
              "5279                       0                   1                   0   \n",
              "5280                       0                   1                   0   \n",
              "5281                       0                   1                   0   \n",
              "\n",
              "      HasContractPhone_2  IsBillingPaperless_0  IsBillingPaperless_1  \\\n",
              "0                      0                     1                     0   \n",
              "1                      1                     1                     0   \n",
              "2                      0                     0                     1   \n",
              "3                      0                     1                     0   \n",
              "4                      1                     1                     0   \n",
              "...                  ...                   ...                   ...   \n",
              "5277                   0                     1                     0   \n",
              "5278                   0                     0                     1   \n",
              "5279                   0                     1                     0   \n",
              "5280                   0                     0                     1   \n",
              "5281                   0                     0                     1   \n",
              "\n",
              "      PaymentMethod_0  PaymentMethod_1  PaymentMethod_2  PaymentMethod_3  \n",
              "0                   0                0                0                1  \n",
              "1                   0                1                0                0  \n",
              "2                   0                0                1                0  \n",
              "3                   0                0                0                1  \n",
              "4                   0                1                0                0  \n",
              "...               ...              ...              ...              ...  \n",
              "5277                0                0                1                0  \n",
              "5278                1                0                0                0  \n",
              "5279                0                0                0                1  \n",
              "5280                0                1                0                0  \n",
              "5281                0                0                0                1  \n",
              "\n",
              "[5282 rows x 47 columns]"
            ],
            "text/html": [
              "\n",
              "  <div id=\"df-dda6994e-99ba-4b4d-8913-d0f457d70cb9\">\n",
              "    <div class=\"colab-df-container\">\n",
              "      <div>\n",
              "<style scoped>\n",
              "    .dataframe tbody tr th:only-of-type {\n",
              "        vertical-align: middle;\n",
              "    }\n",
              "\n",
              "    .dataframe tbody tr th {\n",
              "        vertical-align: top;\n",
              "    }\n",
              "\n",
              "    .dataframe thead th {\n",
              "        text-align: right;\n",
              "    }\n",
              "</style>\n",
              "<table border=\"1\" class=\"dataframe\">\n",
              "  <thead>\n",
              "    <tr style=\"text-align: right;\">\n",
              "      <th></th>\n",
              "      <th>ClientPeriod</th>\n",
              "      <th>MonthlySpending</th>\n",
              "      <th>TotalSpent</th>\n",
              "      <th>Churn</th>\n",
              "      <th>Sex_0</th>\n",
              "      <th>Sex_1</th>\n",
              "      <th>IsSeniorCitizen_0</th>\n",
              "      <th>IsSeniorCitizen_1</th>\n",
              "      <th>HasPartner_0</th>\n",
              "      <th>HasPartner_1</th>\n",
              "      <th>...</th>\n",
              "      <th>HasMovieSubscription_2</th>\n",
              "      <th>HasContractPhone_0</th>\n",
              "      <th>HasContractPhone_1</th>\n",
              "      <th>HasContractPhone_2</th>\n",
              "      <th>IsBillingPaperless_0</th>\n",
              "      <th>IsBillingPaperless_1</th>\n",
              "      <th>PaymentMethod_0</th>\n",
              "      <th>PaymentMethod_1</th>\n",
              "      <th>PaymentMethod_2</th>\n",
              "      <th>PaymentMethod_3</th>\n",
              "    </tr>\n",
              "  </thead>\n",
              "  <tbody>\n",
              "    <tr>\n",
              "      <th>0</th>\n",
              "      <td>55</td>\n",
              "      <td>19.50</td>\n",
              "      <td>1026.35</td>\n",
              "      <td>0</td>\n",
              "      <td>0</td>\n",
              "      <td>1</td>\n",
              "      <td>1</td>\n",
              "      <td>0</td>\n",
              "      <td>0</td>\n",
              "      <td>1</td>\n",
              "      <td>...</td>\n",
              "      <td>0</td>\n",
              "      <td>0</td>\n",
              "      <td>1</td>\n",
              "      <td>0</td>\n",
              "      <td>1</td>\n",
              "      <td>0</td>\n",
              "      <td>0</td>\n",
              "      <td>0</td>\n",
              "      <td>0</td>\n",
              "      <td>1</td>\n",
              "    </tr>\n",
              "    <tr>\n",
              "      <th>1</th>\n",
              "      <td>72</td>\n",
              "      <td>25.85</td>\n",
              "      <td>1872.20</td>\n",
              "      <td>0</td>\n",
              "      <td>0</td>\n",
              "      <td>1</td>\n",
              "      <td>1</td>\n",
              "      <td>0</td>\n",
              "      <td>0</td>\n",
              "      <td>1</td>\n",
              "      <td>...</td>\n",
              "      <td>0</td>\n",
              "      <td>0</td>\n",
              "      <td>0</td>\n",
              "      <td>1</td>\n",
              "      <td>1</td>\n",
              "      <td>0</td>\n",
              "      <td>0</td>\n",
              "      <td>1</td>\n",
              "      <td>0</td>\n",
              "      <td>0</td>\n",
              "    </tr>\n",
              "    <tr>\n",
              "      <th>2</th>\n",
              "      <td>1</td>\n",
              "      <td>75.90</td>\n",
              "      <td>75.90</td>\n",
              "      <td>1</td>\n",
              "      <td>0</td>\n",
              "      <td>1</td>\n",
              "      <td>1</td>\n",
              "      <td>0</td>\n",
              "      <td>1</td>\n",
              "      <td>0</td>\n",
              "      <td>...</td>\n",
              "      <td>0</td>\n",
              "      <td>1</td>\n",
              "      <td>0</td>\n",
              "      <td>0</td>\n",
              "      <td>0</td>\n",
              "      <td>1</td>\n",
              "      <td>0</td>\n",
              "      <td>0</td>\n",
              "      <td>1</td>\n",
              "      <td>0</td>\n",
              "    </tr>\n",
              "    <tr>\n",
              "      <th>3</th>\n",
              "      <td>32</td>\n",
              "      <td>79.30</td>\n",
              "      <td>2570.00</td>\n",
              "      <td>0</td>\n",
              "      <td>1</td>\n",
              "      <td>0</td>\n",
              "      <td>0</td>\n",
              "      <td>1</td>\n",
              "      <td>0</td>\n",
              "      <td>1</td>\n",
              "      <td>...</td>\n",
              "      <td>0</td>\n",
              "      <td>1</td>\n",
              "      <td>0</td>\n",
              "      <td>0</td>\n",
              "      <td>1</td>\n",
              "      <td>0</td>\n",
              "      <td>0</td>\n",
              "      <td>0</td>\n",
              "      <td>0</td>\n",
              "      <td>1</td>\n",
              "    </tr>\n",
              "    <tr>\n",
              "      <th>4</th>\n",
              "      <td>60</td>\n",
              "      <td>115.25</td>\n",
              "      <td>6758.45</td>\n",
              "      <td>0</td>\n",
              "      <td>1</td>\n",
              "      <td>0</td>\n",
              "      <td>1</td>\n",
              "      <td>0</td>\n",
              "      <td>0</td>\n",
              "      <td>1</td>\n",
              "      <td>...</td>\n",
              "      <td>1</td>\n",
              "      <td>0</td>\n",
              "      <td>0</td>\n",
              "      <td>1</td>\n",
              "      <td>1</td>\n",
              "      <td>0</td>\n",
              "      <td>0</td>\n",
              "      <td>1</td>\n",
              "      <td>0</td>\n",
              "      <td>0</td>\n",
              "    </tr>\n",
              "    <tr>\n",
              "      <th>...</th>\n",
              "      <td>...</td>\n",
              "      <td>...</td>\n",
              "      <td>...</td>\n",
              "      <td>...</td>\n",
              "      <td>...</td>\n",
              "      <td>...</td>\n",
              "      <td>...</td>\n",
              "      <td>...</td>\n",
              "      <td>...</td>\n",
              "      <td>...</td>\n",
              "      <td>...</td>\n",
              "      <td>...</td>\n",
              "      <td>...</td>\n",
              "      <td>...</td>\n",
              "      <td>...</td>\n",
              "      <td>...</td>\n",
              "      <td>...</td>\n",
              "      <td>...</td>\n",
              "      <td>...</td>\n",
              "      <td>...</td>\n",
              "      <td>...</td>\n",
              "    </tr>\n",
              "    <tr>\n",
              "      <th>5277</th>\n",
              "      <td>3</td>\n",
              "      <td>30.40</td>\n",
              "      <td>82.15</td>\n",
              "      <td>0</td>\n",
              "      <td>0</td>\n",
              "      <td>1</td>\n",
              "      <td>1</td>\n",
              "      <td>0</td>\n",
              "      <td>1</td>\n",
              "      <td>0</td>\n",
              "      <td>...</td>\n",
              "      <td>0</td>\n",
              "      <td>1</td>\n",
              "      <td>0</td>\n",
              "      <td>0</td>\n",
              "      <td>1</td>\n",
              "      <td>0</td>\n",
              "      <td>0</td>\n",
              "      <td>0</td>\n",
              "      <td>1</td>\n",
              "      <td>0</td>\n",
              "    </tr>\n",
              "    <tr>\n",
              "      <th>5278</th>\n",
              "      <td>50</td>\n",
              "      <td>44.45</td>\n",
              "      <td>2188.45</td>\n",
              "      <td>0</td>\n",
              "      <td>0</td>\n",
              "      <td>1</td>\n",
              "      <td>1</td>\n",
              "      <td>0</td>\n",
              "      <td>0</td>\n",
              "      <td>1</td>\n",
              "      <td>...</td>\n",
              "      <td>0</td>\n",
              "      <td>0</td>\n",
              "      <td>1</td>\n",
              "      <td>0</td>\n",
              "      <td>0</td>\n",
              "      <td>1</td>\n",
              "      <td>1</td>\n",
              "      <td>0</td>\n",
              "      <td>0</td>\n",
              "      <td>0</td>\n",
              "    </tr>\n",
              "    <tr>\n",
              "      <th>5279</th>\n",
              "      <td>1</td>\n",
              "      <td>55.05</td>\n",
              "      <td>55.05</td>\n",
              "      <td>0</td>\n",
              "      <td>0</td>\n",
              "      <td>1</td>\n",
              "      <td>1</td>\n",
              "      <td>0</td>\n",
              "      <td>1</td>\n",
              "      <td>0</td>\n",
              "      <td>...</td>\n",
              "      <td>0</td>\n",
              "      <td>1</td>\n",
              "      <td>0</td>\n",
              "      <td>0</td>\n",
              "      <td>1</td>\n",
              "      <td>0</td>\n",
              "      <td>0</td>\n",
              "      <td>0</td>\n",
              "      <td>0</td>\n",
              "      <td>1</td>\n",
              "    </tr>\n",
              "    <tr>\n",
              "      <th>5280</th>\n",
              "      <td>29</td>\n",
              "      <td>76.00</td>\n",
              "      <td>2215.25</td>\n",
              "      <td>0</td>\n",
              "      <td>1</td>\n",
              "      <td>0</td>\n",
              "      <td>1</td>\n",
              "      <td>0</td>\n",
              "      <td>1</td>\n",
              "      <td>0</td>\n",
              "      <td>...</td>\n",
              "      <td>0</td>\n",
              "      <td>1</td>\n",
              "      <td>0</td>\n",
              "      <td>0</td>\n",
              "      <td>0</td>\n",
              "      <td>1</td>\n",
              "      <td>0</td>\n",
              "      <td>1</td>\n",
              "      <td>0</td>\n",
              "      <td>0</td>\n",
              "    </tr>\n",
              "    <tr>\n",
              "      <th>5281</th>\n",
              "      <td>19</td>\n",
              "      <td>75.90</td>\n",
              "      <td>1375.60</td>\n",
              "      <td>0</td>\n",
              "      <td>1</td>\n",
              "      <td>0</td>\n",
              "      <td>1</td>\n",
              "      <td>0</td>\n",
              "      <td>1</td>\n",
              "      <td>0</td>\n",
              "      <td>...</td>\n",
              "      <td>0</td>\n",
              "      <td>1</td>\n",
              "      <td>0</td>\n",
              "      <td>0</td>\n",
              "      <td>0</td>\n",
              "      <td>1</td>\n",
              "      <td>0</td>\n",
              "      <td>0</td>\n",
              "      <td>0</td>\n",
              "      <td>1</td>\n",
              "    </tr>\n",
              "  </tbody>\n",
              "</table>\n",
              "<p>5282 rows × 47 columns</p>\n",
              "</div>\n",
              "      <button class=\"colab-df-convert\" onclick=\"convertToInteractive('df-dda6994e-99ba-4b4d-8913-d0f457d70cb9')\"\n",
              "              title=\"Convert this dataframe to an interactive table.\"\n",
              "              style=\"display:none;\">\n",
              "        \n",
              "  <svg xmlns=\"http://www.w3.org/2000/svg\" height=\"24px\"viewBox=\"0 0 24 24\"\n",
              "       width=\"24px\">\n",
              "    <path d=\"M0 0h24v24H0V0z\" fill=\"none\"/>\n",
              "    <path d=\"M18.56 5.44l.94 2.06.94-2.06 2.06-.94-2.06-.94-.94-2.06-.94 2.06-2.06.94zm-11 1L8.5 8.5l.94-2.06 2.06-.94-2.06-.94L8.5 2.5l-.94 2.06-2.06.94zm10 10l.94 2.06.94-2.06 2.06-.94-2.06-.94-.94-2.06-.94 2.06-2.06.94z\"/><path d=\"M17.41 7.96l-1.37-1.37c-.4-.4-.92-.59-1.43-.59-.52 0-1.04.2-1.43.59L10.3 9.45l-7.72 7.72c-.78.78-.78 2.05 0 2.83L4 21.41c.39.39.9.59 1.41.59.51 0 1.02-.2 1.41-.59l7.78-7.78 2.81-2.81c.8-.78.8-2.07 0-2.86zM5.41 20L4 18.59l7.72-7.72 1.47 1.35L5.41 20z\"/>\n",
              "  </svg>\n",
              "      </button>\n",
              "      \n",
              "  <style>\n",
              "    .colab-df-container {\n",
              "      display:flex;\n",
              "      flex-wrap:wrap;\n",
              "      gap: 12px;\n",
              "    }\n",
              "\n",
              "    .colab-df-convert {\n",
              "      background-color: #E8F0FE;\n",
              "      border: none;\n",
              "      border-radius: 50%;\n",
              "      cursor: pointer;\n",
              "      display: none;\n",
              "      fill: #1967D2;\n",
              "      height: 32px;\n",
              "      padding: 0 0 0 0;\n",
              "      width: 32px;\n",
              "    }\n",
              "\n",
              "    .colab-df-convert:hover {\n",
              "      background-color: #E2EBFA;\n",
              "      box-shadow: 0px 1px 2px rgba(60, 64, 67, 0.3), 0px 1px 3px 1px rgba(60, 64, 67, 0.15);\n",
              "      fill: #174EA6;\n",
              "    }\n",
              "\n",
              "    [theme=dark] .colab-df-convert {\n",
              "      background-color: #3B4455;\n",
              "      fill: #D2E3FC;\n",
              "    }\n",
              "\n",
              "    [theme=dark] .colab-df-convert:hover {\n",
              "      background-color: #434B5C;\n",
              "      box-shadow: 0px 1px 3px 1px rgba(0, 0, 0, 0.15);\n",
              "      filter: drop-shadow(0px 1px 2px rgba(0, 0, 0, 0.3));\n",
              "      fill: #FFFFFF;\n",
              "    }\n",
              "  </style>\n",
              "\n",
              "      <script>\n",
              "        const buttonEl =\n",
              "          document.querySelector('#df-dda6994e-99ba-4b4d-8913-d0f457d70cb9 button.colab-df-convert');\n",
              "        buttonEl.style.display =\n",
              "          google.colab.kernel.accessAllowed ? 'block' : 'none';\n",
              "\n",
              "        async function convertToInteractive(key) {\n",
              "          const element = document.querySelector('#df-dda6994e-99ba-4b4d-8913-d0f457d70cb9');\n",
              "          const dataTable =\n",
              "            await google.colab.kernel.invokeFunction('convertToInteractive',\n",
              "                                                     [key], {});\n",
              "          if (!dataTable) return;\n",
              "\n",
              "          const docLinkHtml = 'Like what you see? Visit the ' +\n",
              "            '<a target=\"_blank\" href=https://colab.research.google.com/notebooks/data_table.ipynb>data table notebook</a>'\n",
              "            + ' to learn more about interactive tables.';\n",
              "          element.innerHTML = '';\n",
              "          dataTable['output_type'] = 'display_data';\n",
              "          await google.colab.output.renderOutput(dataTable, element);\n",
              "          const docLink = document.createElement('div');\n",
              "          docLink.innerHTML = docLinkHtml;\n",
              "          element.appendChild(docLink);\n",
              "        }\n",
              "      </script>\n",
              "    </div>\n",
              "  </div>\n",
              "  "
            ]
          },
          "metadata": {},
          "execution_count": 16
        }
      ]
    },
    {
      "cell_type": "code",
      "source": [
        "test_data"
      ],
      "metadata": {
        "colab": {
          "base_uri": "https://localhost:8080/",
          "height": 488
        },
        "id": "OQE23YbGxa1t",
        "outputId": "7efbf69e-4190-4301-e1de-035bf583bc79"
      },
      "execution_count": null,
      "outputs": [
        {
          "output_type": "execute_result",
          "data": {
            "text/plain": [
              "      ClientPeriod  MonthlySpending  TotalSpent  Sex_0  Sex_1  \\\n",
              "0               42            56.10     2386.85      0      1   \n",
              "1               29            98.50     3004.15      0      1   \n",
              "2                9            76.25      684.85      0      1   \n",
              "3               67            74.00     4868.40      1      0   \n",
              "4               71            20.10     1389.60      1      0   \n",
              "...            ...              ...         ...    ...    ...   \n",
              "1756            71           105.15     7555.00      1      0   \n",
              "1757            13            20.85      272.35      1      0   \n",
              "1758             2            91.45      171.45      0      1   \n",
              "1759            19            89.10     1620.80      1      0   \n",
              "1760            72            65.60     4566.50      0      1   \n",
              "\n",
              "      IsSeniorCitizen_0  IsSeniorCitizen_1  HasPartner_0  HasPartner_1  \\\n",
              "0                     1                  0             0             1   \n",
              "1                     0                  1             0             1   \n",
              "2                     1                  0             1             0   \n",
              "3                     1                  0             0             1   \n",
              "4                     1                  0             0             1   \n",
              "...                 ...                ...           ...           ...   \n",
              "1756                  1                  0             0             1   \n",
              "1757                  1                  0             0             1   \n",
              "1758                  1                  0             0             1   \n",
              "1759                  1                  0             0             1   \n",
              "1760                  1                  0             1             0   \n",
              "\n",
              "      HasChild_0  ...  HasMovieSubscription_2  HasContractPhone_0  \\\n",
              "0              1  ...                       0                   0   \n",
              "1              1  ...                       1                   1   \n",
              "2              1  ...                       0                   1   \n",
              "3              0  ...                       0                   0   \n",
              "4              0  ...                       0                   0   \n",
              "...          ...  ...                     ...                 ...   \n",
              "1756           1  ...                       1                   0   \n",
              "1757           0  ...                       0                   0   \n",
              "1758           1  ...                       0                   1   \n",
              "1759           1  ...                       1                   1   \n",
              "1760           1  ...                       1                   0   \n",
              "\n",
              "      HasContractPhone_1  HasContractPhone_2  IsBillingPaperless_0  \\\n",
              "0                      1                   0                     1   \n",
              "1                      0                   0                     0   \n",
              "2                      0                   0                     0   \n",
              "3                      0                   1                     1   \n",
              "4                      0                   1                     1   \n",
              "...                  ...                 ...                   ...   \n",
              "1756                   0                   1                     0   \n",
              "1757                   0                   1                     1   \n",
              "1758                   0                   0                     0   \n",
              "1759                   0                   0                     0   \n",
              "1760                   0                   1                     0   \n",
              "\n",
              "      IsBillingPaperless_1  PaymentMethod_0  PaymentMethod_1  PaymentMethod_2  \\\n",
              "0                        0                0                1                0   \n",
              "1                        1                0                0                1   \n",
              "2                        1                0                0                1   \n",
              "3                        0                0                1                0   \n",
              "4                        0                1                0                0   \n",
              "...                    ...              ...              ...              ...   \n",
              "1756                     1                1                0                0   \n",
              "1757                     0                0                0                0   \n",
              "1758                     1                0                0                1   \n",
              "1759                     1                0                0                1   \n",
              "1760                     1                1                0                0   \n",
              "\n",
              "      PaymentMethod_3  \n",
              "0                   0  \n",
              "1                   0  \n",
              "2                   0  \n",
              "3                   0  \n",
              "4                   0  \n",
              "...               ...  \n",
              "1756                0  \n",
              "1757                1  \n",
              "1758                0  \n",
              "1759                0  \n",
              "1760                0  \n",
              "\n",
              "[1761 rows x 46 columns]"
            ],
            "text/html": [
              "\n",
              "  <div id=\"df-527423e1-fc17-4f0b-9057-1f76d99b799b\">\n",
              "    <div class=\"colab-df-container\">\n",
              "      <div>\n",
              "<style scoped>\n",
              "    .dataframe tbody tr th:only-of-type {\n",
              "        vertical-align: middle;\n",
              "    }\n",
              "\n",
              "    .dataframe tbody tr th {\n",
              "        vertical-align: top;\n",
              "    }\n",
              "\n",
              "    .dataframe thead th {\n",
              "        text-align: right;\n",
              "    }\n",
              "</style>\n",
              "<table border=\"1\" class=\"dataframe\">\n",
              "  <thead>\n",
              "    <tr style=\"text-align: right;\">\n",
              "      <th></th>\n",
              "      <th>ClientPeriod</th>\n",
              "      <th>MonthlySpending</th>\n",
              "      <th>TotalSpent</th>\n",
              "      <th>Sex_0</th>\n",
              "      <th>Sex_1</th>\n",
              "      <th>IsSeniorCitizen_0</th>\n",
              "      <th>IsSeniorCitizen_1</th>\n",
              "      <th>HasPartner_0</th>\n",
              "      <th>HasPartner_1</th>\n",
              "      <th>HasChild_0</th>\n",
              "      <th>...</th>\n",
              "      <th>HasMovieSubscription_2</th>\n",
              "      <th>HasContractPhone_0</th>\n",
              "      <th>HasContractPhone_1</th>\n",
              "      <th>HasContractPhone_2</th>\n",
              "      <th>IsBillingPaperless_0</th>\n",
              "      <th>IsBillingPaperless_1</th>\n",
              "      <th>PaymentMethod_0</th>\n",
              "      <th>PaymentMethod_1</th>\n",
              "      <th>PaymentMethod_2</th>\n",
              "      <th>PaymentMethod_3</th>\n",
              "    </tr>\n",
              "  </thead>\n",
              "  <tbody>\n",
              "    <tr>\n",
              "      <th>0</th>\n",
              "      <td>42</td>\n",
              "      <td>56.10</td>\n",
              "      <td>2386.85</td>\n",
              "      <td>0</td>\n",
              "      <td>1</td>\n",
              "      <td>1</td>\n",
              "      <td>0</td>\n",
              "      <td>0</td>\n",
              "      <td>1</td>\n",
              "      <td>1</td>\n",
              "      <td>...</td>\n",
              "      <td>0</td>\n",
              "      <td>0</td>\n",
              "      <td>1</td>\n",
              "      <td>0</td>\n",
              "      <td>1</td>\n",
              "      <td>0</td>\n",
              "      <td>0</td>\n",
              "      <td>1</td>\n",
              "      <td>0</td>\n",
              "      <td>0</td>\n",
              "    </tr>\n",
              "    <tr>\n",
              "      <th>1</th>\n",
              "      <td>29</td>\n",
              "      <td>98.50</td>\n",
              "      <td>3004.15</td>\n",
              "      <td>0</td>\n",
              "      <td>1</td>\n",
              "      <td>0</td>\n",
              "      <td>1</td>\n",
              "      <td>0</td>\n",
              "      <td>1</td>\n",
              "      <td>1</td>\n",
              "      <td>...</td>\n",
              "      <td>1</td>\n",
              "      <td>1</td>\n",
              "      <td>0</td>\n",
              "      <td>0</td>\n",
              "      <td>0</td>\n",
              "      <td>1</td>\n",
              "      <td>0</td>\n",
              "      <td>0</td>\n",
              "      <td>1</td>\n",
              "      <td>0</td>\n",
              "    </tr>\n",
              "    <tr>\n",
              "      <th>2</th>\n",
              "      <td>9</td>\n",
              "      <td>76.25</td>\n",
              "      <td>684.85</td>\n",
              "      <td>0</td>\n",
              "      <td>1</td>\n",
              "      <td>1</td>\n",
              "      <td>0</td>\n",
              "      <td>1</td>\n",
              "      <td>0</td>\n",
              "      <td>1</td>\n",
              "      <td>...</td>\n",
              "      <td>0</td>\n",
              "      <td>1</td>\n",
              "      <td>0</td>\n",
              "      <td>0</td>\n",
              "      <td>0</td>\n",
              "      <td>1</td>\n",
              "      <td>0</td>\n",
              "      <td>0</td>\n",
              "      <td>1</td>\n",
              "      <td>0</td>\n",
              "    </tr>\n",
              "    <tr>\n",
              "      <th>3</th>\n",
              "      <td>67</td>\n",
              "      <td>74.00</td>\n",
              "      <td>4868.40</td>\n",
              "      <td>1</td>\n",
              "      <td>0</td>\n",
              "      <td>1</td>\n",
              "      <td>0</td>\n",
              "      <td>0</td>\n",
              "      <td>1</td>\n",
              "      <td>0</td>\n",
              "      <td>...</td>\n",
              "      <td>0</td>\n",
              "      <td>0</td>\n",
              "      <td>0</td>\n",
              "      <td>1</td>\n",
              "      <td>1</td>\n",
              "      <td>0</td>\n",
              "      <td>0</td>\n",
              "      <td>1</td>\n",
              "      <td>0</td>\n",
              "      <td>0</td>\n",
              "    </tr>\n",
              "    <tr>\n",
              "      <th>4</th>\n",
              "      <td>71</td>\n",
              "      <td>20.10</td>\n",
              "      <td>1389.60</td>\n",
              "      <td>1</td>\n",
              "      <td>0</td>\n",
              "      <td>1</td>\n",
              "      <td>0</td>\n",
              "      <td>0</td>\n",
              "      <td>1</td>\n",
              "      <td>0</td>\n",
              "      <td>...</td>\n",
              "      <td>0</td>\n",
              "      <td>0</td>\n",
              "      <td>0</td>\n",
              "      <td>1</td>\n",
              "      <td>1</td>\n",
              "      <td>0</td>\n",
              "      <td>1</td>\n",
              "      <td>0</td>\n",
              "      <td>0</td>\n",
              "      <td>0</td>\n",
              "    </tr>\n",
              "    <tr>\n",
              "      <th>...</th>\n",
              "      <td>...</td>\n",
              "      <td>...</td>\n",
              "      <td>...</td>\n",
              "      <td>...</td>\n",
              "      <td>...</td>\n",
              "      <td>...</td>\n",
              "      <td>...</td>\n",
              "      <td>...</td>\n",
              "      <td>...</td>\n",
              "      <td>...</td>\n",
              "      <td>...</td>\n",
              "      <td>...</td>\n",
              "      <td>...</td>\n",
              "      <td>...</td>\n",
              "      <td>...</td>\n",
              "      <td>...</td>\n",
              "      <td>...</td>\n",
              "      <td>...</td>\n",
              "      <td>...</td>\n",
              "      <td>...</td>\n",
              "      <td>...</td>\n",
              "    </tr>\n",
              "    <tr>\n",
              "      <th>1756</th>\n",
              "      <td>71</td>\n",
              "      <td>105.15</td>\n",
              "      <td>7555.00</td>\n",
              "      <td>1</td>\n",
              "      <td>0</td>\n",
              "      <td>1</td>\n",
              "      <td>0</td>\n",
              "      <td>0</td>\n",
              "      <td>1</td>\n",
              "      <td>1</td>\n",
              "      <td>...</td>\n",
              "      <td>1</td>\n",
              "      <td>0</td>\n",
              "      <td>0</td>\n",
              "      <td>1</td>\n",
              "      <td>0</td>\n",
              "      <td>1</td>\n",
              "      <td>1</td>\n",
              "      <td>0</td>\n",
              "      <td>0</td>\n",
              "      <td>0</td>\n",
              "    </tr>\n",
              "    <tr>\n",
              "      <th>1757</th>\n",
              "      <td>13</td>\n",
              "      <td>20.85</td>\n",
              "      <td>272.35</td>\n",
              "      <td>1</td>\n",
              "      <td>0</td>\n",
              "      <td>1</td>\n",
              "      <td>0</td>\n",
              "      <td>0</td>\n",
              "      <td>1</td>\n",
              "      <td>0</td>\n",
              "      <td>...</td>\n",
              "      <td>0</td>\n",
              "      <td>0</td>\n",
              "      <td>0</td>\n",
              "      <td>1</td>\n",
              "      <td>1</td>\n",
              "      <td>0</td>\n",
              "      <td>0</td>\n",
              "      <td>0</td>\n",
              "      <td>0</td>\n",
              "      <td>1</td>\n",
              "    </tr>\n",
              "    <tr>\n",
              "      <th>1758</th>\n",
              "      <td>2</td>\n",
              "      <td>91.45</td>\n",
              "      <td>171.45</td>\n",
              "      <td>0</td>\n",
              "      <td>1</td>\n",
              "      <td>1</td>\n",
              "      <td>0</td>\n",
              "      <td>0</td>\n",
              "      <td>1</td>\n",
              "      <td>1</td>\n",
              "      <td>...</td>\n",
              "      <td>0</td>\n",
              "      <td>1</td>\n",
              "      <td>0</td>\n",
              "      <td>0</td>\n",
              "      <td>0</td>\n",
              "      <td>1</td>\n",
              "      <td>0</td>\n",
              "      <td>0</td>\n",
              "      <td>1</td>\n",
              "      <td>0</td>\n",
              "    </tr>\n",
              "    <tr>\n",
              "      <th>1759</th>\n",
              "      <td>19</td>\n",
              "      <td>89.10</td>\n",
              "      <td>1620.80</td>\n",
              "      <td>1</td>\n",
              "      <td>0</td>\n",
              "      <td>1</td>\n",
              "      <td>0</td>\n",
              "      <td>0</td>\n",
              "      <td>1</td>\n",
              "      <td>1</td>\n",
              "      <td>...</td>\n",
              "      <td>1</td>\n",
              "      <td>1</td>\n",
              "      <td>0</td>\n",
              "      <td>0</td>\n",
              "      <td>0</td>\n",
              "      <td>1</td>\n",
              "      <td>0</td>\n",
              "      <td>0</td>\n",
              "      <td>1</td>\n",
              "      <td>0</td>\n",
              "    </tr>\n",
              "    <tr>\n",
              "      <th>1760</th>\n",
              "      <td>72</td>\n",
              "      <td>65.60</td>\n",
              "      <td>4566.50</td>\n",
              "      <td>0</td>\n",
              "      <td>1</td>\n",
              "      <td>1</td>\n",
              "      <td>0</td>\n",
              "      <td>1</td>\n",
              "      <td>0</td>\n",
              "      <td>1</td>\n",
              "      <td>...</td>\n",
              "      <td>1</td>\n",
              "      <td>0</td>\n",
              "      <td>0</td>\n",
              "      <td>1</td>\n",
              "      <td>0</td>\n",
              "      <td>1</td>\n",
              "      <td>1</td>\n",
              "      <td>0</td>\n",
              "      <td>0</td>\n",
              "      <td>0</td>\n",
              "    </tr>\n",
              "  </tbody>\n",
              "</table>\n",
              "<p>1761 rows × 46 columns</p>\n",
              "</div>\n",
              "      <button class=\"colab-df-convert\" onclick=\"convertToInteractive('df-527423e1-fc17-4f0b-9057-1f76d99b799b')\"\n",
              "              title=\"Convert this dataframe to an interactive table.\"\n",
              "              style=\"display:none;\">\n",
              "        \n",
              "  <svg xmlns=\"http://www.w3.org/2000/svg\" height=\"24px\"viewBox=\"0 0 24 24\"\n",
              "       width=\"24px\">\n",
              "    <path d=\"M0 0h24v24H0V0z\" fill=\"none\"/>\n",
              "    <path d=\"M18.56 5.44l.94 2.06.94-2.06 2.06-.94-2.06-.94-.94-2.06-.94 2.06-2.06.94zm-11 1L8.5 8.5l.94-2.06 2.06-.94-2.06-.94L8.5 2.5l-.94 2.06-2.06.94zm10 10l.94 2.06.94-2.06 2.06-.94-2.06-.94-.94-2.06-.94 2.06-2.06.94z\"/><path d=\"M17.41 7.96l-1.37-1.37c-.4-.4-.92-.59-1.43-.59-.52 0-1.04.2-1.43.59L10.3 9.45l-7.72 7.72c-.78.78-.78 2.05 0 2.83L4 21.41c.39.39.9.59 1.41.59.51 0 1.02-.2 1.41-.59l7.78-7.78 2.81-2.81c.8-.78.8-2.07 0-2.86zM5.41 20L4 18.59l7.72-7.72 1.47 1.35L5.41 20z\"/>\n",
              "  </svg>\n",
              "      </button>\n",
              "      \n",
              "  <style>\n",
              "    .colab-df-container {\n",
              "      display:flex;\n",
              "      flex-wrap:wrap;\n",
              "      gap: 12px;\n",
              "    }\n",
              "\n",
              "    .colab-df-convert {\n",
              "      background-color: #E8F0FE;\n",
              "      border: none;\n",
              "      border-radius: 50%;\n",
              "      cursor: pointer;\n",
              "      display: none;\n",
              "      fill: #1967D2;\n",
              "      height: 32px;\n",
              "      padding: 0 0 0 0;\n",
              "      width: 32px;\n",
              "    }\n",
              "\n",
              "    .colab-df-convert:hover {\n",
              "      background-color: #E2EBFA;\n",
              "      box-shadow: 0px 1px 2px rgba(60, 64, 67, 0.3), 0px 1px 3px 1px rgba(60, 64, 67, 0.15);\n",
              "      fill: #174EA6;\n",
              "    }\n",
              "\n",
              "    [theme=dark] .colab-df-convert {\n",
              "      background-color: #3B4455;\n",
              "      fill: #D2E3FC;\n",
              "    }\n",
              "\n",
              "    [theme=dark] .colab-df-convert:hover {\n",
              "      background-color: #434B5C;\n",
              "      box-shadow: 0px 1px 3px 1px rgba(0, 0, 0, 0.15);\n",
              "      filter: drop-shadow(0px 1px 2px rgba(0, 0, 0, 0.3));\n",
              "      fill: #FFFFFF;\n",
              "    }\n",
              "  </style>\n",
              "\n",
              "      <script>\n",
              "        const buttonEl =\n",
              "          document.querySelector('#df-527423e1-fc17-4f0b-9057-1f76d99b799b button.colab-df-convert');\n",
              "        buttonEl.style.display =\n",
              "          google.colab.kernel.accessAllowed ? 'block' : 'none';\n",
              "\n",
              "        async function convertToInteractive(key) {\n",
              "          const element = document.querySelector('#df-527423e1-fc17-4f0b-9057-1f76d99b799b');\n",
              "          const dataTable =\n",
              "            await google.colab.kernel.invokeFunction('convertToInteractive',\n",
              "                                                     [key], {});\n",
              "          if (!dataTable) return;\n",
              "\n",
              "          const docLinkHtml = 'Like what you see? Visit the ' +\n",
              "            '<a target=\"_blank\" href=https://colab.research.google.com/notebooks/data_table.ipynb>data table notebook</a>'\n",
              "            + ' to learn more about interactive tables.';\n",
              "          element.innerHTML = '';\n",
              "          dataTable['output_type'] = 'display_data';\n",
              "          await google.colab.output.renderOutput(dataTable, element);\n",
              "          const docLink = document.createElement('div');\n",
              "          docLink.innerHTML = docLinkHtml;\n",
              "          element.appendChild(docLink);\n",
              "        }\n",
              "      </script>\n",
              "    </div>\n",
              "  </div>\n",
              "  "
            ]
          },
          "metadata": {},
          "execution_count": 17
        }
      ]
    },
    {
      "cell_type": "code",
      "source": [
        "# Update names of the columns for train_test_split\n",
        "num_cols_new = ['ClientPeriod', 'MonthlySpending', 'TotalSpent']\n",
        "cat_cols_new = ['Sex_0',\n",
        "       'Sex_1', 'IsSeniorCitizen_0', 'IsSeniorCitizen_1', 'HasPartner_0',\n",
        "       'HasPartner_1', 'HasChild_0', 'HasChild_1', 'HasPhoneService_0',\n",
        "       'HasPhoneService_1', 'HasMultiplePhoneNumbers_0',\n",
        "       'HasMultiplePhoneNumbers_1', 'HasMultiplePhoneNumbers_2',\n",
        "       'HasInternetService_0', 'HasInternetService_1', 'HasInternetService_2',\n",
        "       'HasOnlineSecurityService_0', 'HasOnlineSecurityService_1',\n",
        "       'HasOnlineSecurityService_2', 'HasOnlineBackup_0', 'HasOnlineBackup_1',\n",
        "       'HasOnlineBackup_2', 'HasDeviceProtection_0', 'HasDeviceProtection_1',\n",
        "       'HasDeviceProtection_2', 'HasTechSupportAccess_0',\n",
        "       'HasTechSupportAccess_1', 'HasTechSupportAccess_2', 'HasOnlineTV_0',\n",
        "       'HasOnlineTV_1', 'HasOnlineTV_2', 'HasMovieSubscription_0',\n",
        "       'HasMovieSubscription_1', 'HasMovieSubscription_2',\n",
        "       'HasContractPhone_0', 'HasContractPhone_1', 'HasContractPhone_2',\n",
        "       'IsBillingPaperless_0', 'IsBillingPaperless_1', 'PaymentMethod_0',\n",
        "       'PaymentMethod_1', 'PaymentMethod_2', 'PaymentMethod_3']"
      ],
      "metadata": {
        "id": "BbY-_wzaCYuY"
      },
      "execution_count": null,
      "outputs": []
    },
    {
      "cell_type": "markdown",
      "source": [
        "### Learning and optimization"
      ],
      "metadata": {
        "id": "4UvyGAxOz_Do"
      }
    },
    {
      "cell_type": "code",
      "source": [
        "number_of_the_universe = 42\n",
        "\n",
        "x_train, x_test, y_train, y_test = train_test_split(\n",
        "    train_data[num_cols_new + cat_cols_new], train_data[target_col],\n",
        "    random_state = number_of_the_universe,\n",
        "    test_size = 0.2\n",
        ")\n",
        "\n",
        "params = {\n",
        "    'logisticregression__C': [0.001, 0.01, 0.1, 1, 10, 100]\n",
        "}\n",
        "\n",
        "clf = make_pipeline(StandardScaler(), LogisticRegression(penalty='l1', max_iter=1000, solver='saga'))\n",
        "grid_search = GridSearchCV(\n",
        "    estimator = clf,\n",
        "    param_grid = params,\n",
        "    scoring = 'roc_auc',\n",
        "    n_jobs = -1,\n",
        "    refit = True,\n",
        "    cv = 10\n",
        ")\n",
        "\n",
        "log_reg = grid_search.fit(x_train, y_train)"
      ],
      "metadata": {
        "id": "LU9qAODeRHCz"
      },
      "execution_count": null,
      "outputs": []
    },
    {
      "cell_type": "code",
      "source": [
        "print(f\"Logistic Regression best score: {log_reg.best_score_}\")\n",
        "print(f\"Logistic Regression best parameters: {log_reg.best_params_}\")"
      ],
      "metadata": {
        "colab": {
          "base_uri": "https://localhost:8080/"
        },
        "id": "p35RxemnUTar",
        "outputId": "269be1b5-8856-4a9e-b8c4-362486e80f45"
      },
      "execution_count": null,
      "outputs": [
        {
          "output_type": "stream",
          "name": "stdout",
          "text": [
            "Logistic Regression best score: 0.8496309810980229\n",
            "Logistic Regression best parameters: {'logisticregression__C': 10}\n"
          ]
        }
      ]
    },
    {
      "cell_type": "code",
      "source": [
        "submission = pd.read_csv('./submission.csv')\n",
        "submission['Churn'] = log_reg.predict_proba(test_data)[:, 1]\n",
        "submission.to_csv('log_reg.csv', index=False)"
      ],
      "metadata": {
        "id": "c1wobSUjy8g7"
      },
      "execution_count": null,
      "outputs": []
    },
    {
      "cell_type": "markdown",
      "source": [
        "![image.png](data:image/png;base64,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)"
      ],
      "metadata": {
        "id": "RBUN-cLszw_I"
      }
    },
    {
      "cell_type": "markdown",
      "source": [
        "Best **C parameter** = 10\n",
        "\n",
        "-----"
      ],
      "metadata": {
        "id": "GpAJxPuZzmDW"
      }
    },
    {
      "cell_type": "markdown",
      "source": [
        "## Gradient boosting:"
      ],
      "metadata": {
        "id": "o04s_uLd0Hwb"
      }
    },
    {
      "cell_type": "code",
      "source": [
        "from catboost import CatBoostClassifier\n",
        "from xgboost import XGBClassifier\n",
        "import xgboost as xgb"
      ],
      "metadata": {
        "id": "YIpJ6sFV0KFr"
      },
      "execution_count": null,
      "outputs": []
    },
    {
      "cell_type": "markdown",
      "source": [
        "### CatBoost Classifier"
      ],
      "metadata": {
        "id": "TkXhUsEe0l2m"
      }
    },
    {
      "cell_type": "code",
      "source": [
        "number_of_the_universe = 42\n",
        "\n",
        "x_train, x_test, y_train, y_test = train_test_split(\n",
        "    train_catboost[num_cols + cat_cols], train_catboost[target_col],\n",
        "    random_state = number_of_the_universe,\n",
        "    test_size = 0.25\n",
        ")\n",
        "\n",
        "\n",
        "catboost = CatBoostClassifier(\n",
        "    cat_features=cat_cols,\n",
        "    logging_level='Silent',\n",
        "    eval_metric=\"AUC:hints=skip_train~false\",\n",
        "    grow_policy=\"Lossguide\",\n",
        "    metric_period=1000,\n",
        "    random_seed=number_of_the_universe,\n",
        ")\n",
        "\n",
        "params = {\n",
        "    \"n_estimators\": [250], #np.arange(0, 500, 50)\n",
        "    \"learning_rate\": [0.08], #np.arange(0.01, 0.1, 0.01)\n",
        "    \"max_depth\": [4], #np.arange(1, 17, 1)\n",
        "    \"l2_leaf_reg\": [6.3], #np.arange(0.1, 10, 0.1)\n",
        "    \"subsample\": [0.6], #np.arange(0.6, 1, 0.01)\n",
        "    \"random_strength\": [5], #np.arange(0.1, 10, 0.1)\n",
        "    \"min_data_in_leaf\": [227], #np.arange(1, 1000, 1)\n",
        "\n",
        "}\n",
        "\n",
        "catboost.grid_search(params, x_train, y_train, cv=10, plot=True, refit=True)"
      ],
      "metadata": {
        "colab": {
          "base_uri": "https://localhost:8080/",
          "height": 400,
          "referenced_widgets": [
            "19d3d9c4fb5049e68ba37aa21adbf0d7"
          ]
        },
        "id": "tHFYFgF90Skp",
        "outputId": "3231935a-ae82-4e61-9abe-e03e254aa25d"
      },
      "execution_count": null,
      "outputs": [
        {
          "output_type": "display_data",
          "data": {
            "text/plain": [
              "MetricVisualizer(layout=Layout(align_self='stretch', height='500px'))"
            ],
            "application/vnd.jupyter.widget-view+json": {
              "version_major": 2,
              "version_minor": 0,
              "model_id": "19d3d9c4fb5049e68ba37aa21adbf0d7"
            }
          },
          "metadata": {}
        },
        {
          "output_type": "stream",
          "name": "stdout",
          "text": [
            "0:\tloss: 0.8572750\tbest: 0.8572750 (0)\ttotal: 1.5s\tremaining: 0us\n",
            "Estimating final quality...\n"
          ]
        },
        {
          "output_type": "execute_result",
          "data": {
            "text/plain": [
              "{'params': {'min_data_in_leaf': 227,\n",
              "  'random_strength': 5,\n",
              "  'depth': 4,\n",
              "  'iterations': 250,\n",
              "  'subsample': 0.6,\n",
              "  'learning_rate': 0.08,\n",
              "  'l2_leaf_reg': 6.3},\n",
              " 'cv_results': defaultdict(list,\n",
              "             {'iterations': [0, 249],\n",
              "              'test-AUC-mean': [0.7734449279097911, 0.8529039222017912],\n",
              "              'test-AUC-std': [0.040203631991898116, 0.022524138152102954],\n",
              "              'train-AUC-mean': [0.7753435460617448, 0.8811166421743346],\n",
              "              'train-AUC-std': [0.006653368063811081, 0.0036147826410399034],\n",
              "              'test-Logloss-mean': [0.6534946911012718, 0.40900408766244967],\n",
              "              'test-Logloss-std': [0.0031328175714570024,\n",
              "               0.027518399897379354],\n",
              "              'train-Logloss-mean': [0.6531196169501406, 0.3728945666322655],\n",
              "              'train-Logloss-std': [0.001572598197396235,\n",
              "               0.004787339877596794]})}"
            ]
          },
          "metadata": {},
          "execution_count": 48
        }
      ]
    },
    {
      "cell_type": "code",
      "source": [
        "print(\"Best score:\", end=' ')\n",
        "print(catboost.best_score_)\n",
        "best_params = catboost.get_params()\n",
        "for f in (\"cat_features\", \"logging_level\", \"eval_metric\"):\n",
        "    best_params.pop(f)\n",
        "print(\"Best params:\", end=' ')\n",
        "print(best_params)"
      ],
      "metadata": {
        "colab": {
          "base_uri": "https://localhost:8080/"
        },
        "id": "zM6JqY7r5oNd",
        "outputId": "be200b28-5d8b-426e-bf33-3e822fc7c412"
      },
      "execution_count": null,
      "outputs": [
        {
          "output_type": "stream",
          "name": "stdout",
          "text": [
            "Best score: {'learn': {'Logloss': 0.37930077266882206, 'AUC': 0.8765591587127731}}\n",
            "Best params: {'random_seed': 42, 'metric_period': 1000, 'grow_policy': 'Lossguide', 'min_data_in_leaf': 227, 'random_strength': 5, 'depth': 4, 'iterations': 250, 'subsample': 0.6, 'learning_rate': 0.08, 'l2_leaf_reg': 6.3}\n"
          ]
        }
      ]
    },
    {
      "cell_type": "code",
      "source": [
        "submission = pd.read_csv(\"submission.csv\")\n",
        "submission[\"Churn\"] = catboost.predict_proba(test_catboost)[:, 1]\n",
        "submission.to_csv(\"catboost.csv\", index=False)"
      ],
      "metadata": {
        "id": "wjq0oXnMJ8qY"
      },
      "execution_count": null,
      "outputs": []
    },
    {
      "cell_type": "markdown",
      "source": [
        "![image.png](data:image/png;base64,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)"
      ],
      "metadata": {
        "id": "JyiuUt1YkMoS"
      }
    },
    {
      "cell_type": "markdown",
      "source": [
        "### XGBoost"
      ],
      "metadata": {
        "id": "jfomMQt6KI-8"
      }
    },
    {
      "cell_type": "code",
      "source": [
        "xgboost = XGBClassifier(\n",
        "    seed = number_of_the_universe,\n",
        "    objective = 'binary:logistic',\n",
        "    n_jobs = -1,\n",
        ")\n",
        "\n",
        "params = {\n",
        "    'booster': ['gbtree'], #['gbtree', 'gblinear']\n",
        "    'n_estimators': [18], #np.arange(2, 20, 2)\n",
        "    'eta': [0.2], #np.arange(0, 1, 0.1)\n",
        "    'max_depth': [7], #np.arange(0, 10, 0.5)\n",
        "    'min_child_weight': [8.0], #np.arange(0, 10, 0.5)\n",
        "    'gamma': [0.1], #np.arange(0, 1, 0.05)\n",
        "    'colsample_bytree': [0.45], #np.arange(0, 1, 0.05)\n",
        "}\n"
      ],
      "metadata": {
        "id": "x1rxS-DlKHFU"
      },
      "execution_count": null,
      "outputs": []
    },
    {
      "cell_type": "code",
      "source": [
        "x_train, x_test, y_train, y_test = train_test_split(\n",
        "    train_data[num_cols_new + cat_cols_new], train_data[target_col],\n",
        "    random_state = number_of_the_universe,\n",
        "    test_size = 0.25\n",
        ")\n",
        "\n",
        "search = GridSearchCV(\n",
        "    estimator = xgboost,\n",
        "    param_grid = params,\n",
        "    scoring = 'roc_auc', \n",
        "    cv = 10,\n",
        "    verbose = 100,\n",
        "    n_jobs = -1,\n",
        "    refit = True,\n",
        ")"
      ],
      "metadata": {
        "id": "P9Y4EY7KkbXa"
      },
      "execution_count": null,
      "outputs": []
    },
    {
      "cell_type": "code",
      "source": [
        "search.fit(x_train, y_train)\n",
        "print(f'Best parameters: {search.best_params_}')"
      ],
      "metadata": {
        "colab": {
          "base_uri": "https://localhost:8080/"
        },
        "id": "ScN4DdaiwChu",
        "outputId": "41a47bf8-6207-4104-e0dd-477b4d3ffead"
      },
      "execution_count": null,
      "outputs": [
        {
          "output_type": "stream",
          "name": "stdout",
          "text": [
            "Fitting 10 folds for each of 1 candidates, totalling 10 fits\n",
            "Best parameters: {'booster': 'gbtree', 'colsample_bytree': 0.45, 'eta': 0.2, 'gamma': 0.1, 'max_depth': 7, 'min_child_weight': 8.0, 'n_estimators': 18}\n"
          ]
        }
      ]
    },
    {
      "cell_type": "code",
      "source": [
        "from sklearn.metrics import roc_auc_score\n",
        "y_preds = search.predict_proba(x_test)[:, -1]\n",
        "print(f\"roc_auc of best XGBClassifier estimator: {roc_auc_score(y_test, y_preds)}\")"
      ],
      "metadata": {
        "colab": {
          "base_uri": "https://localhost:8080/"
        },
        "id": "hmsxfGp4wEi1",
        "outputId": "9f9e8fa1-342a-49d3-d3a6-1a6e48653097"
      },
      "execution_count": null,
      "outputs": [
        {
          "output_type": "stream",
          "name": "stdout",
          "text": [
            "roc_auc of best XGBClassifier estimator: 0.820186426939798\n"
          ]
        }
      ]
    },
    {
      "cell_type": "code",
      "source": [
        "submission = pd.read_csv(\"submission.csv\")\n",
        "submission[\"Churn\"] = search.predict_proba(test_data)[:, 1]\n",
        "submission.to_csv(\"xgboost.csv\", index=False)"
      ],
      "metadata": {
        "id": "k2-O2IguJXqR"
      },
      "execution_count": null,
      "outputs": []
    },
    {
      "cell_type": "markdown",
      "source": [
        "![image.png](data:image/png;base64,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)"
      ],
      "metadata": {
        "id": "sfSY_MuyJ26U"
      }
    },
    {
      "cell_type": "markdown",
      "source": [
        "#### As a result, **CatBoost** works better on the given dataset:"
      ],
      "metadata": {
        "id": "pJYm1rrbJ66S"
      }
    },
    {
      "cell_type": "markdown",
      "source": [
        "1. CatBoost: 0.85525\n",
        "2. XGBoost: 0.85061\n",
        "\n",
        "---"
      ],
      "metadata": {
        "id": "Arjv_2OmORQg"
      }
    }
  ]
}